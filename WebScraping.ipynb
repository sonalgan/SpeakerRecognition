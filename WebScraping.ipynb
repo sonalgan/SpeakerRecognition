{
  "nbformat": 4,
  "nbformat_minor": 0,
  "metadata": {
    "colab": {
      "provenance": []
    },
    "kernelspec": {
      "name": "python3",
      "display_name": "Python 3"
    },
    "language_info": {
      "name": "python"
    }
  },
  "cells": [
    {
      "cell_type": "markdown",
      "source": [
        "Import Libraries"
      ],
      "metadata": {
        "id": "FSPVZZYJbecX"
      }
    },
    {
      "cell_type": "code",
      "execution_count": null,
      "metadata": {
        "id": "tU8U7dn5bPcO"
      },
      "outputs": [],
      "source": [
        "import urllib\n",
        "import scipy\n",
        "from bs4 import *\n",
        "import requests\n",
        "from bs4 import BeautifulSoup\n",
        "import os\n",
        "import lxml\n",
        "import html5lib\n",
        "import numpy as np\n",
        "#!pip install simplejson\n",
        "import simplejson"
      ]
    },
    {
      "cell_type": "code",
      "source": [
        "from google.colab import drive\n",
        "drive.mount(\"/content/drive/\")\n"
      ],
      "metadata": {
        "colab": {
          "base_uri": "https://localhost:8080/"
        },
        "id": "zdBkgOywbjHL",
        "outputId": "3a2eda9a-b023-4b4c-8df6-dfff30ef672d"
      },
      "execution_count": null,
      "outputs": [
        {
          "output_type": "stream",
          "name": "stdout",
          "text": [
            "Drive already mounted at /content/drive/; to attempt to forcibly remount, call drive.mount(\"/content/drive/\", force_remount=True).\n"
          ]
        }
      ]
    },
    {
      "cell_type": "code",
      "source": [
        "#!pip install selenium\n",
        "#!apt-get update # to update ubuntu to correctly run apt install\n",
        "#!apt install chromium-chromedriver\n",
        "#!cp /usr/lib/chromium-browser/chromedriver /usr/bin\n",
        "from selenium import webdriver\n",
        "\n"
      ],
      "metadata": {
        "id": "lPl6WPRubwff"
      },
      "execution_count": null,
      "outputs": []
    },
    {
      "cell_type": "code",
      "source": [
        "import sys\n",
        "sys.path.insert(0,'/usr/lib/chromium-browser/chromedriver')\n",
        "from selenium import webdriver\n",
        "options = webdriver.ChromeOptions()\n",
        "options.add_argument('--headless')\n",
        "options.add_argument('--no-sandbox')\n",
        "options.add_argument('--disable-dev-shm-usage')\n",
        "\n"
      ],
      "metadata": {
        "id": "GtnMPiqWb7ZY"
      },
      "execution_count": null,
      "outputs": []
    },
    {
      "cell_type": "markdown",
      "source": [
        "#Web Scraping"
      ],
      "metadata": {
        "id": "Xs9_u-FucKy6"
      }
    },
    {
      "cell_type": "code",
      "source": [
        "rootdir= \"/content/drive/MyDrive/SpeakerRecognition\""
      ],
      "metadata": {
        "id": "R7uVbuVhjOqd"
      },
      "execution_count": null,
      "outputs": []
    },
    {
      "cell_type": "code",
      "source": [
        "#import os\n",
        "#os.mkdir(rootdir+\"/audio\")"
      ],
      "metadata": {
        "id": "egh4DnXI3mUr"
      },
      "execution_count": null,
      "outputs": []
    },
    {
      "cell_type": "code",
      "source": [
        "from selenium.webdriver.common.by import By\n",
        "from selenium.webdriver.support.ui import WebDriverWait\n",
        "from selenium.webdriver.support import expected_conditions as EC\n",
        "\n",
        "names = []\n",
        "temp_name = \"\"\n",
        "temp_size = \"\"\n",
        "counter = 1\n",
        "links = []"
      ],
      "metadata": {
        "id": "AxX34nEUANbV"
      },
      "execution_count": null,
      "outputs": []
    },
    {
      "cell_type": "code",
      "execution_count": null,
      "metadata": {
        "id": "Gef6vlZQ3UR2"
      },
      "outputs": [],
      "source": [
        "# with urllib.request.urlopen(\"https://librivox.org/search?primary_key=0&search_category=title&search_page=1&search_form=get_results\") as url:\n",
        "#     html = url.read()\n",
        "\n",
        "\n",
        "for i in range(190, 300):\n",
        "    print(i)\n",
        "    url = (\"https://librivox.org/search?title=&author=&reader=&keywords=&genre_id=0&status=all&project_type=solo&recorded_language=1&sort_order=catalog_date&search_page={}&search_form=advanced\").format(i)\n",
        "    \n",
        "    browser = webdriver.Chrome('chromedriver',options=options)\n",
        "    browser.get(url)\n",
        "\n",
        "    element = WebDriverWait(browser, 10).until(\n",
        "        EC.presence_of_element_located((By.CLASS_NAME , \"catalog-result\"))\n",
        "    )\n",
        "\n",
        "    html = browser.page_source\n",
        "    soup = BeautifulSoup(html, 'html5lib')    \n",
        "\n",
        "    \n",
        "    for litag in soup.find_all('li', {'class': 'catalog-result'}):\n",
        "        h = litag.find('h3')\n",
        "        browser.get(h.a['href'])\n",
        "        html2 = browser.page_source\n",
        "        soup2 = BeautifulSoup(html2, 'html5lib')\n",
        "\n",
        "        s = soup2.find('dl', {'class': 'product-details'})\n",
        "            \n",
        "        target =  s.find_all('dd')\n",
        "        \n",
        "        temp_name = target[3].get_text()\n",
        "        temp_size = target[1].get_text()\n",
        "        temp_size = temp_size.replace('MB','')\n",
        "\n",
        "        if(temp_name in names):\n",
        "            continue\n",
        "\n",
        "        s = soup2.find('dl', {'class': 'listen-download'})\n",
        "        \n",
        "        target = s.find_all('dd')\n",
        "        #print(temp_size)\n",
        "        #print(type(temp_size)==\"<class 'str'>\")\n",
        "        #if(isinstance(temp_size,str)):\n",
        "         # continue\n",
        "        try:\n",
        "          if float(temp_size) >= 25 and float(temp_size) <= 110:\n",
        "            links.append(target[0].a['href'])\n",
        "            names.append(temp_name)\n",
        "            print(temp_name,temp_size)\n",
        "        except ValueError:\n",
        "          continue\n",
        "          \n",
        "       ## Store at each 10 iterations   \n",
        "    if(i%10==0):\n",
        "         f = open(rootdir+'/book_links.txt', 'w')\n",
        "         simplejson.dump(links, f)\n",
        "         f.close()\n",
        "\n",
        "         f = open(rootdir+'/author_names.txt', 'w')\n",
        "         simplejson.dump(names, f)\n",
        "         f.close()\n",
        "         print(\"New speakers stored\")\n",
        "                                \n",
        "#             for dtag in litag.find_all('dt'):\n",
        "#             #                 print(dtag.span.text)\n",
        "#             #                 print(dtag.a['href'])\n",
        "#                 x = dtag.span.text\n",
        "#                 x = x.replace('MB','')\n",
        "#                 if float(x) >= 25 and float(x) <= 110:\n",
        "#                         links.append(dtag.a['href'])\n",
        "    browser.quit()\n",
        "    print(len(names),\" speakers gathered.\\n\")\n",
        "#print(links)\n",
        "#print(names)\n",
        "    #for link in links:\n",
        "    #    localDestination = rootdir+\"/audio/audio{}.wav\".format(counter)\n",
        "    #    resultFilePath, responseHeaders = urllib.request.urlretrieve(link, localDestination)\n",
        "    #    counter += 1\n",
        "        \n",
        "## Start at page 39"
      ]
    },
    {
      "cell_type": "code",
      "source": [
        "f = open(rootdir+'/book_links.txt', 'w')\n",
        "simplejson.dump(links, f)\n",
        "f.close()\n",
        "\n",
        "f = open(rootdir+'/author_names.txt', 'w')\n",
        "simplejson.dump(names, f)\n",
        "f.close()\n"
      ],
      "metadata": {
        "id": "cwh-IEfLdpTa"
      },
      "execution_count": null,
      "outputs": []
    },
    {
      "cell_type": "code",
      "source": [
        "links"
      ],
      "metadata": {
        "id": "dspqiEY4kKH2"
      },
      "execution_count": null,
      "outputs": []
    },
    {
      "cell_type": "code",
      "source": [
        "names"
      ],
      "metadata": {
        "id": "Fplr-kwVj4iv"
      },
      "execution_count": null,
      "outputs": []
    },
    {
      "cell_type": "markdown",
      "source": [
        "## Downloading data for 200 speakers"
      ],
      "metadata": {
        "id": "LcMGarworDuv"
      }
    },
    {
      "cell_type": "code",
      "source": [
        "rootdir= \"/content/drive/My Drive/SpeakerRecognition\""
      ],
      "metadata": {
        "id": "wMnC9HzjrcA7"
      },
      "execution_count": 2,
      "outputs": []
    },
    {
      "cell_type": "code",
      "source": [
        "import random\n",
        "import numpy as np\n",
        "import urllib\n",
        "import os"
      ],
      "metadata": {
        "id": "i6MTSjmVq4m_"
      },
      "execution_count": 27,
      "outputs": []
    },
    {
      "cell_type": "code",
      "source": [
        "from google.colab import drive\n",
        "drive.mount(\"/content/drive/\")"
      ],
      "metadata": {
        "colab": {
          "base_uri": "https://localhost:8080/"
        },
        "id": "RrOHDW6arBZH",
        "outputId": "9f547aa3-322d-4d12-e4e1-99be1d797fdf"
      },
      "execution_count": 4,
      "outputs": [
        {
          "output_type": "stream",
          "name": "stdout",
          "text": [
            "Mounted at /content/drive/\n"
          ]
        }
      ]
    },
    {
      "cell_type": "code",
      "source": [
        "if (not os.path.exists(rootdir+\"/audio\")):\n",
        "  os.mkdir(rootdir+\"/audio\")\n",
        "\n",
        "with open(rootdir+'/book_links.txt') as f:\n",
        "    links = f.readlines()\n",
        "\n",
        "links=[element for element in links ]\n",
        "links=links[0][1:-1].replace('\"','').split(\", \")\n",
        "\n",
        "counter=1\n"
      ],
      "metadata": {
        "colab": {
          "base_uri": "https://localhost:8080/"
        },
        "id": "TrI3VufZrwsP",
        "outputId": "80a0f0f2-7dfa-4e9c-8fba-530f44e81ad2"
      },
      "execution_count": 37,
      "outputs": [
        {
          "output_type": "stream",
          "name": "stdout",
          "text": [
            "1\n",
            "2\n",
            "3\n",
            "4\n",
            "5\n",
            "6\n",
            "7\n",
            "8\n",
            "9\n",
            "10\n",
            "11\n",
            "12\n",
            "13\n",
            "14\n",
            "15\n",
            "16\n",
            "17\n",
            "18\n",
            "19\n",
            "20\n",
            "21\n",
            "22\n",
            "23\n",
            "24\n",
            "25\n",
            "26\n",
            "27\n",
            "28\n",
            "29\n",
            "30\n",
            "31\n",
            "32\n",
            "33\n",
            "34\n",
            "35\n",
            "36\n",
            "37\n",
            "38\n",
            "39\n",
            "40\n",
            "41\n",
            "42\n",
            "43\n",
            "44\n",
            "45\n",
            "46\n",
            "47\n",
            "48\n",
            "49\n",
            "50\n",
            "51\n",
            "52\n",
            "53\n",
            "54\n",
            "55\n",
            "56\n",
            "57\n",
            "58\n",
            "59\n",
            "60\n",
            "61\n",
            "62\n",
            "63\n",
            "64\n",
            "65\n",
            "66\n",
            "67\n",
            "68\n",
            "69\n",
            "70\n",
            "71\n",
            "72\n",
            "73\n",
            "74\n",
            "75\n",
            "76\n",
            "77\n",
            "78\n",
            "79\n",
            "80\n",
            "81\n",
            "82\n",
            "83\n",
            "84\n",
            "85\n",
            "86\n",
            "87\n",
            "88\n",
            "89\n",
            "90\n",
            "91\n",
            "92\n",
            "93\n",
            "94\n",
            "95\n",
            "96\n",
            "97\n",
            "98\n",
            "99\n",
            "100\n",
            "101\n",
            "102\n",
            "103\n",
            "104\n",
            "105\n",
            "106\n",
            "107\n",
            "108\n",
            "109\n",
            "110\n",
            "111\n",
            "112\n",
            "113\n",
            "114\n",
            "115\n",
            "116\n",
            "117\n",
            "118\n",
            "119\n",
            "120\n",
            "121\n",
            "122\n",
            "123\n",
            "124\n",
            "125\n",
            "126\n",
            "127\n",
            "128\n",
            "129\n",
            "130\n",
            "131\n",
            "132\n",
            "133\n",
            "134\n",
            "135\n",
            "136\n",
            "137\n",
            "138\n",
            "139\n",
            "140\n",
            "141\n",
            "142\n",
            "143\n",
            "144\n",
            "145\n",
            "146\n",
            "147\n",
            "148\n",
            "149\n",
            "150\n",
            "151\n",
            "152\n",
            "153\n",
            "154\n",
            "155\n",
            "156\n",
            "157\n",
            "158\n",
            "159\n",
            "160\n",
            "161\n",
            "162\n",
            "163\n",
            "164\n",
            "165\n",
            "166\n",
            "167\n",
            "168\n",
            "169\n",
            "170\n",
            "171\n",
            "172\n",
            "173\n",
            "174\n",
            "175\n",
            "176\n",
            "177\n",
            "178\n",
            "179\n",
            "180\n",
            "181\n",
            "182\n",
            "183\n",
            "184\n",
            "185\n",
            "186\n",
            "187\n",
            "188\n",
            "189\n",
            "190\n",
            "191\n",
            "192\n",
            "193\n",
            "194\n",
            "195\n",
            "196\n",
            "197\n",
            "198\n",
            "199\n",
            "200\n"
          ]
        }
      ]
    }
  ]
}